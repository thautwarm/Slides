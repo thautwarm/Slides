{
 "cells": [
  {
   "cell_type": "markdown",
   "metadata": {
    "pycharm": {
     "name": "#%% md\n"
    }
   },
   "source": [
    "\\begin{eqnarray}\n",
    "\\quad & \\Large\\mathrm{PyCon \\, China \\; 2020} &  & \\\\\n",
    "& \\Large\\mathrm{前端自由，快乐parsing} \\\\\n",
    "& & \\small\\mathrm{thautwarm}\n",
    "\\end{eqnarray}\n",
    "\n",
    "大概提纲如下\n",
    "\n",
    "0. parser generator是什么？\n",
    "1. parsing究竟有什么用？\n",
    "    - 灵活的文本内容摘取\n",
    "    - **声明式**的思想解决问题(代码生成)\n",
    "    - \\*做程序语言\n",
    "\n",
    "2. **例子**\n",
    "    - 解析 类型schema\n",
    "    - dataclasses生成\n",
    "    - 不同实现的dataclasses生成\n",
    "    - \\*实现一个语言(无类型Lambda演算 + 基本数据结构)\n",
    "\n",
    "3. frontend-for-free是什么概念？\n",
    "    - 最快\n",
    "    - 最简单\n",
    "    - standalone\n",
    "    - 天然的多语言支持\n",
    "    - 解决大部分parsing问题\n",
    "\n",
    "4. \\*有趣的idea: [parser-based 高亮器](https://github.com/thautwarm/latmap), [快速实现一个TeX](https://github.com/thautwarm/gkdtex), ...\n"
   ]
  }
 ],
 "metadata": {
  "kernelspec": {
   "display_name": "Python 3",
   "language": "python",
   "name": "python3"
  },
  "language_info": {
   "codemirror_mode": {
    "name": "ipython",
    "version": 3
   },
   "file_extension": ".py",
   "mimetype": "text/x-python",
   "name": "python",
   "nbconvert_exporter": "python",
   "pygments_lexer": "ipython3",
   "version": "3.8.3"
  }
 },
 "nbformat": 4,
 "nbformat_minor": 4
}
